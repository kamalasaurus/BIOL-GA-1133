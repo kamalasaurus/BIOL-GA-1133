{
 "cells": [
  {
   "cell_type": "raw",
   "id": "da158809",
   "metadata": {},
   "source": [
    "---\n",
    "title: \"Homework1 - Machine Learning\"\n",
    "output: html_document\n",
    "author: Kamal\n",
    "---"
   ]
  },
  {
   "cell_type": "markdown",
   "id": "b9818726",
   "metadata": {},
   "source": [
    "# Homework 1\n",
    "## Your name here\n",
    "\n",
    "### Some informative viewing\n",
    "I highly recommend watching this series by 3blue1brown to get a sense of what matrix operations are from a vector space perspective and how to visualize them: [Essence of Linear Algebra](https://www.youtube.com/playlist?list=PLZHQObOWTQDPD3MizzM2xVFitgF8hE_ab) .  So far, we will cover the first 4 videos in the series, the rest are enrichment ...or review if you've already done statistics.  We might cover topics like convolution and polynomial multiplication when we get to deep learning, which are a bit different from the vector representation of matrices.  The foundation you build here will be helpful then.\n",
    "\n",
    "### Matrix Multiplication (2.5pts)\n",
    "\n",
    "You are a linear algebra expert from Youtube university and have been hired by a local space cadet to help them navigate some vector spaces. They have provided you with the following matrices:"
   ]
  },
  {
   "cell_type": "code",
   "execution_count": null,
   "id": "7b4363fa",
   "metadata": {},
   "outputs": [],
   "source": [
    "A <- matrix(c(1, 2, 3, 4, 5, 6), nrow = 2, byrow = TRUE)\n",
    "B <- matrix(c(7, 8, 9, 10, 11, 12), nrow = 3, byrow = TRUE)"
   ]
  },
  {
   "cell_type": "markdown",
   "id": "fc9eff8d",
   "metadata": {},
   "source": [
    "1. Compute the matrix product \\(C = AB\\). What are the dimensions of \\(C\\)? (0.5pts)"
   ]
  },
  {
   "cell_type": "code",
   "execution_count": null,
   "id": "6817414f",
   "metadata": {},
   "outputs": [],
   "source": []
  },
  {
   "cell_type": "markdown",
   "id": "eeebd180",
   "metadata": {},
   "source": [
    "2. Compute the outer product of the first column of \\(A\\) with the first row of \\(B\\). What is the result? (0.5pts)"
   ]
  },
  {
   "cell_type": "code",
   "execution_count": null,
   "id": "b56ea51d",
   "metadata": {},
   "outputs": [],
   "source": []
  },
  {
   "cell_type": "markdown",
   "id": "838e186b",
   "metadata": {},
   "source": [
    "3. Verify that the matrix product \\(C\\) can be expressed as a sum of outer products of the columns of \\(A\\) and the rows of \\(B\\). (0.5pts)"
   ]
  },
  {
   "cell_type": "code",
   "execution_count": null,
   "id": "4d9abc70",
   "metadata": {},
   "outputs": [],
   "source": []
  },
  {
   "cell_type": "markdown",
   "id": "769e1982",
   "metadata": {},
   "source": [
    "4. Explain in your own words the relationship between matrix multiplication and outer products. (0.5pts)\n",
    "\n",
    "5. Implement a function that takes two matrices as input and returns their product using the outer product method. (0.5pts)"
   ]
  },
  {
   "cell_type": "code",
   "execution_count": null,
   "id": "93bf1af6",
   "metadata": {},
   "outputs": [],
   "source": [
    "matrix_multiply_outer <- function(A, B) {\n",
    "  \n",
    "}"
   ]
  },
  {
   "cell_type": "markdown",
   "id": "084ce549",
   "metadata": {},
   "source": [
    "### Chick-Weight (7.5pts)\n",
    "You are a farmer named Bob and your chickens are getting too fat.  Analyze the ChickWeight dataset in R before your chickens get taken away by the ASPCA. Your task is to explore the relationship between diet and weight gain over time in chicks. Perform the following analyses:\n",
    "\n",
    "Load the ChickWeight dataset and display its structure.  If it's not already included, you can load the attached chick_weight.csv"
   ]
  },
  {
   "cell_type": "code",
   "execution_count": null,
   "id": "053de9eb",
   "metadata": {},
   "outputs": [],
   "source": [
    "library(ggplot2)\n",
    "library(ggcorrplot)\n",
    "library(dplyr)\n",
    "\n",
    "data(\"ChickWeight\")\n",
    "str(ChickWeight)\n",
    "head(ChickWeight)\n",
    "\n",
    "# If you need to load from a CSV file, uncomment the line below\n",
    "# ChickWeight <- read.csv(\"chick_weight.csv\")"
   ]
  },
  {
   "cell_type": "markdown",
   "id": "14a03fc3",
   "metadata": {},
   "source": [
    "1. Create a summary table showing the average weight of chicks for each diet at each time point. (0.5pts)"
   ]
  },
  {
   "cell_type": "code",
   "execution_count": null,
   "id": "7e8536e6",
   "metadata": {},
   "outputs": [],
   "source": []
  },
  {
   "cell_type": "markdown",
   "id": "082d4cd6",
   "metadata": {},
   "source": [
    "2. Visualize the weight gain over time for each diet using a line plot with error bars representing the standard error of the mean using ggplot. (0.5pts)"
   ]
  },
  {
   "cell_type": "code",
   "execution_count": null,
   "id": "2181c1a8",
   "metadata": {},
   "outputs": [],
   "source": []
  },
  {
   "cell_type": "markdown",
   "id": "e331415f",
   "metadata": {},
   "source": [
    "3. Use the ggcorrplot package to create a correlation heatmap of the numeric variables in the dataset.  Convert the diet column to dummy variables (columns) and include them in the correlation analysis. (1pts)"
   ]
  },
  {
   "cell_type": "code",
   "execution_count": null,
   "id": "65fcef32",
   "metadata": {},
   "outputs": [],
   "source": []
  },
  {
   "cell_type": "markdown",
   "id": "982c037d",
   "metadata": {},
   "source": [
    "4.  Calculate a slope coefficient for each diet and time combination using a custom function.  HINT:  use the lm() function inside calculate slope and add 0+ in the front of the independent variables to get slopes for all but no intercepts, otherwise the lm function will drop one of the diet columns to avoid collinearity. (1pts)"
   ]
  },
  {
   "cell_type": "code",
   "execution_count": null,
   "id": "2975224f",
   "metadata": {},
   "outputs": [],
   "source": [
    "calculate_slope <- function(data) {\n",
    "}\n",
    "\n",
    "slopes <- "
   ]
  },
  {
   "cell_type": "markdown",
   "id": "8976c4d2",
   "metadata": {},
   "source": [
    "5.  Write a function that calculates residual sum of squares (RSS), and then compare the minimal value to find the optimal slopes for each parameter and parameter combination. (1pts)"
   ]
  },
  {
   "cell_type": "code",
   "execution_count": null,
   "id": "21b62826",
   "metadata": {},
   "outputs": [],
   "source": [
    "calculate_rss <- function(model, data) {\n",
    "}"
   ]
  },
  {
   "cell_type": "markdown",
   "id": "e7eadfc1",
   "metadata": {
    "lines_to_next_cell": 0
   },
   "source": [
    "# You can loop through different models and calculate RSS for each\n",
    "# to find the optimal slopes for each parameter and parameter combination.\n",
    "# You can work through it manually as well"
   ]
  },
  {
   "cell_type": "code",
   "execution_count": null,
   "id": "1d7d7a6c",
   "metadata": {},
   "outputs": [],
   "source": []
  },
  {
   "cell_type": "markdown",
   "id": "accff17f",
   "metadata": {},
   "source": [
    "6.  Use anova to compare the RSS to see if they're significant -- compare the F statistic.  Use the built in anova function.  (0.5pts)"
   ]
  },
  {
   "cell_type": "code",
   "execution_count": null,
   "id": "916ac68e",
   "metadata": {},
   "outputs": [],
   "source": []
  },
  {
   "cell_type": "markdown",
   "id": "f1e95804",
   "metadata": {},
   "source": [
    "7. Fit a linear model to assess the effect of diet and time on weight.  Use backwards selection to find the best model just against the p-values of the coefficients.  Use the same approach with the 0 + leading the independent variables to ensure all lines are present. (1pts)"
   ]
  },
  {
   "cell_type": "code",
   "execution_count": null,
   "id": "01f6fa74",
   "metadata": {},
   "outputs": [],
   "source": []
  },
  {
   "cell_type": "markdown",
   "id": "22ec3191",
   "metadata": {},
   "source": [
    "8. Iteratively enhance with backwards selection.  When the F statistic becomes insignificant, stop.  Do not use the step function, implement your own F test based backwards selection. (1pts)"
   ]
  },
  {
   "cell_type": "code",
   "execution_count": null,
   "id": "a5159078",
   "metadata": {
    "lines_to_next_cell": 2
   },
   "outputs": [],
   "source": [
    "f_test_backward_selection <- function(full_model) {\n",
    "}"
   ]
  },
  {
   "cell_type": "markdown",
   "id": "cde3c6fd",
   "metadata": {},
   "source": [
    "9. Create a quadratic line with just weight vs time (quadratic vs linear) -- calculate RSS with results from quadratic to see if it's better. (0.5pts)"
   ]
  },
  {
   "cell_type": "code",
   "execution_count": null,
   "id": "afcbacd3",
   "metadata": {
    "lines_to_next_cell": 2
   },
   "outputs": [],
   "source": []
  },
  {
   "cell_type": "markdown",
   "id": "3dc9c719",
   "metadata": {},
   "source": [
    "10.  Generate a null model of chick-weight to hypothetically use for forwards selection. (0.5pts)"
   ]
  },
  {
   "cell_type": "code",
   "execution_count": null,
   "id": "1d7c6c7b",
   "metadata": {
    "lines_to_next_cell": 2
   },
   "outputs": [],
   "source": []
  },
  {
   "cell_type": "markdown",
   "id": "5ee8e80f",
   "metadata": {},
   "source": [
    "### Bonus:  Show that slope of linear regression is pearsons correlation r times the ratio of standard deviations for a simple linear model. (1pts)\n",
    "\n",
    "You can show it analytically by mashing together the equations for ß_1 and r, or you can show it numerically by simulating some data and fitting a linear model and calculating the correlation coefficient and standard deviations.\n",
    "\n",
    "The equation for sd(X) in terms of sum of squares is:\n",
    "$$\n",
    "s_x = \\sqrt{\\frac{1}{n-1} \\sum_{i=1}^n (X_i - \\bar{X})^2}\n",
    "$$\n",
    "where \\(X\\) is the predictor variable, \\(n\\) is the number of observations, and \\(\\bar{X}\\) is the mean of \\(X\\).\n",
    "\n",
    "The equation for sd(Y) in terms of sum of squares is:\n",
    "$$\n",
    "s_y = \\sqrt{\\frac{1}{n-1} \\sum_{i=1}^n (Y_i - \\bar{Y})^2}\n",
    "$$\n",
    "where \\(Y\\) is the response variable, \\(n\\) is the number of observations, and \\(\\bar{Y}\\) is the mean of \\(Y\\).\n",
    "\n",
    "The equation for cov(X,Y) is:\n",
    "$$\n",
    "cov(X, Y) = \\frac{1}{n-1} \\sum_{i=1}^n (X_i - \\bar{X})(Y_i - \\bar{Y})\n",
    "$$\n",
    "where \\(X\\) is the predictor variable, \\(Y\\) is the response variable, \\(n\\) is the number of observations, and \\(\\bar{X}\\) and \\(\\bar{Y}\\) are the means of \\(X\\) and \\(Y\\), respectively."
   ]
  },
  {
   "cell_type": "markdown",
   "id": "fa4dbf79",
   "metadata": {},
   "source": [
    "The equation to calculate pearson's correlation is:\n",
    "$$\n",
    "r = \\frac{cov(X, Y)}{s_x s_y}\n",
    "$$\n",
    "where \\(cov(X, Y)\\) is the covariance between the predictor variable \\(X\\) and the response variable \\(Y\\), \\(s_x\\) is the standard deviation of \\(X\\), and \\(s_y\\) is the standard deviation of \\(Y\\).\n",
    "\n",
    "The numerical equation for ß_1 in a simple linear regression is:\n",
    "$$\n",
    "\\beta_1 = \\frac{\\sum_{i=1}^n(x_i - \\bar{x})(y_i - \\bar{y})}{\\sum_{i=1}^n(x_i - \\bar{x})^2}\n",
    "$$"
   ]
  },
  {
   "cell_type": "markdown",
   "id": "cabed558",
   "metadata": {},
   "source": [
    "The symbolic representation of the same equation is:\n",
    "$$\n",
    "\\beta_1 = \\frac{cov(X, Y)}{s_x^2}\n",
    "$$\n",
    "where \\(cov(X, Y)\\) is the covariance between the predictor variable \\(X\\) and the response variable \\(Y\\), and \\(s_x^2\\) is the variance of \\(X\\)."
   ]
  },
  {
   "cell_type": "markdown",
   "id": "8324aa9b",
   "metadata": {},
   "source": [
    "Can you prove the following by apply in algebra with the equations above:\n",
    "$$\n",
    "\\beta_1 = r \\frac{s_y}{s_x}\n",
    "$$\n",
    "where \\(r\\) is Pearson's correlation coefficient, \\(s_y\\) is the standard deviation of the response variable, and \\(s_x\\) is the standard deviation of the predictor variable.\n",
    "\n",
    "Write the solution by hand and upload a photo of your proof; or, if using a numerical comparison, submit the code here:"
   ]
  },
  {
   "cell_type": "code",
   "execution_count": null,
   "id": "fc94479d",
   "metadata": {},
   "outputs": [],
   "source": []
  }
 ],
 "metadata": {
  "jupytext": {
   "cell_metadata_filter": "-all",
   "main_language": "R",
   "notebook_metadata_filter": "-all"
  },
  "kernelspec": {
   "display_name": "Bash",
   "language": "bash",
   "name": "bash"
  },
  "language_info": {
   "name": ""
  }
 },
 "nbformat": 4,
 "nbformat_minor": 5
}
