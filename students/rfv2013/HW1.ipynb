{
 "cells": [
  {
   "cell_type": "markdown",
   "id": "fa7c5db1",
   "metadata": {},
   "source": [
    "# Homework 1"
   ]
  },
  {
   "cell_type": "markdown",
   "id": "a505da93",
   "metadata": {},
   "source": [
    "## Ron Vogel"
   ]
  },
  {
   "cell_type": "markdown",
   "id": "94bfafd5",
   "metadata": {},
   "source": [
    "*** Converting .Rmd to .ipynb file  ***\n",
    "\n",
    "Change directory to location of .Rmd file\n",
    "\n",
    "Install and use sos-rmarkdown and run these commands in Terminal\n",
    "> pip install sos-rmarkdown  \n",
    "> sos convert HW1.Rmd HW1.ipynb"
   ]
  },
  {
   "cell_type": "markdown",
   "id": "f4410693",
   "metadata": {},
   "source": [
    "### Some informative viewing\n",
    "I highly recommend watching this series by 3blue1brown to get a sense of what matrix operations are from a vector space perspective and how to visualize them: [Essence of Linear Algebra](https://www.youtube.com/playlist?list=PLZHQObOWTQDPD3MizzM2xVFitgF8hE_ab) .  So far, we will cover the first 4 videos in the series, the rest are enrichment ...or review if you've already done statistics.  We might cover topics like convolution and polynomial multiplication when we get to deep learning, which are a bit different from the vector representation of matrices.  The foundation you build here will be helpful then."
   ]
  },
  {
   "cell_type": "markdown",
   "id": "74e62a9b",
   "metadata": {},
   "source": [
    "### Matrix Multiplication (2.5pts)\n",
    "\n",
    "You are a linear algebra expert from Youtube university and have been hired by a local space cadet to help them navigate some vector spaces. They have provided you with the following matrices:"
   ]
  },
  {
   "cell_type": "code",
   "execution_count": 1,
   "id": "61f58de6",
   "metadata": {},
   "outputs": [],
   "source": [
    "# import necessary modules\n",
    "import os\n",
    "import numpy as np\n",
    "import pandas as pd"
   ]
  },
  {
   "cell_type": "code",
   "execution_count": 2,
   "id": "ac0d95dd",
   "metadata": {
    "kernel": "R",
    "tags": [
     "report_cell"
    ]
   },
   "outputs": [
    {
     "name": "stdout",
     "output_type": "stream",
     "text": [
      "A = \n",
      " [[1 2 3]\n",
      " [4 5 6]]\n",
      "B = \n",
      " [[ 7  8]\n",
      " [ 9 10]\n",
      " [11 12]]\n"
     ]
    }
   ],
   "source": [
    "# create arrays in numpy\n",
    "# A <- matrix(c(1, 2, 3, 4, 5, 6), nrow = 2, byrow = TRUE)\n",
    "# B <- matrix(c(7, 8, 9, 10, 11, 12), nrow = 3, byrow = TRUE)\n",
    "\n",
    "A = np.array([[1, 2, 3, 4, 5, 6]])\n",
    "A = A.reshape(2, 3)\n",
    "\n",
    "B = np.array([[7, 8, 9, 10, 11, 12]])\n",
    "B = B.reshape(3, 2)\n",
    "print(\"A = \\n\", A)\n",
    "print(\"B = \\n\", B)\n"
   ]
  },
  {
   "cell_type": "markdown",
   "id": "d61b9987",
   "metadata": {},
   "source": [
    "1. Compute the matrix product \\(C = AB\\). What are the dimensions of \\(C\\)? (0.5pts)"
   ]
  },
  {
   "cell_type": "code",
   "execution_count": 3,
   "id": "cead2778",
   "metadata": {},
   "outputs": [
    {
     "name": "stdout",
     "output_type": "stream",
     "text": [
      "The matrix product of A and B is:\n",
      " [[ 58  64]\n",
      " [139 154]]\n",
      "The dimension of C is: (2, 2)\n"
     ]
    }
   ],
   "source": [
    "# Create matrix product of A and B\n",
    "C = np.matmul(A, B)  # compute matrix product using np.matmul\n",
    "print(\"The matrix product of A and B is:\\n\", C)  # print result\n",
    "print(\"The dimension of C is:\", C.shape)"
   ]
  },
  {
   "cell_type": "markdown",
   "id": "b37fea64",
   "metadata": {},
   "source": [
    "2. Compute the outer product of the first column of \\(A\\) with the first row of \\(B\\). What is the result? (0.5pts)"
   ]
  },
  {
   "cell_type": "code",
   "execution_count": 158,
   "id": "9f112f7a",
   "metadata": {},
   "outputs": [
    {
     "name": "stdout",
     "output_type": "stream",
     "text": [
      "The outer product of the first column of A and the first row of B is:\n",
      " [[ 7  8]\n",
      " [28 32]]\n",
      "The dimension of D is: (2, 2)\n"
     ]
    }
   ],
   "source": [
    "# Compute outer product of first column of A and first row of B\n",
    "D = np.outer(A[:, 0], B[0, :])  # use np.outer for outer product of first column of A and first row of B\n",
    "print(\"The outer product of the first column of A and the first row of B is:\\n\", D)  #print result\n",
    "print(\"The dimension of D is:\", D.shape)"
   ]
  },
  {
   "cell_type": "markdown",
   "id": "74f72de7",
   "metadata": {},
   "source": [
    "3. Verify that the matrix product \\(C\\) can be expressed as a sum of outer products of the columns of \\(A\\) and the rows of \\(B\\). (0.5pts)"
   ]
  },
  {
   "cell_type": "code",
   "execution_count": 4,
   "id": "8b5ab0b8",
   "metadata": {},
   "outputs": [
    {
     "name": "stdout",
     "output_type": "stream",
     "text": [
      "[[ 7  8]\n",
      " [28 32]]\n",
      "[[18 20]\n",
      " [45 50]]\n",
      "[[33 36]\n",
      " [66 72]]\n",
      "The sum of all outer products is:\n",
      " [[ 58  64]\n",
      " [139 154]]\n",
      "The dimension of the sum matrix is: (2, 2)\n",
      "Does the sum of all outer products equal the matrix product C? True\n"
     ]
    }
   ],
   "source": [
    "# We need to compute the outer products of the first column of A and first row of B, second column of A and second row of B, and third column of A and third row of B\n",
    "# Then sum these 3 outer products to get the matrix product C \n",
    "\n",
    "# Compute outer product of first column A and first row of B\n",
    "D = np.outer(A[:, 0], B[0, :])  # use np.outer for outer product of first column of A and first row of B\n",
    "print(D)\n",
    "\n",
    "# Compute outer product of second column A and second row of B\n",
    "E = np.outer(A[:, 1], B[1, :])  # use np.outer for outer product of second column of A and second row of B\n",
    "print(E)\n",
    "\n",
    "# Compute outer product of third column A and third row of B\n",
    "F = np.outer(A[:, 2], B[2, :])  # use np.outer for outer product of third column of A and third row of B\n",
    "print(F)\n",
    "\n",
    "sum_matrix = D + E + F # sum of all outer products\n",
    "print(\"The sum of all outer products is:\\n\", sum_matrix)\n",
    "print(\"The dimension of the sum matrix is:\", sum_matrix.shape)\n",
    "# The sum of all outer products should equal the dot product C\n",
    "print(\"Does the sum of all outer products equal the matrix product C?\", np.array_equal(sum_matrix, C))"
   ]
  },
  {
   "cell_type": "markdown",
   "id": "2b51e6de",
   "metadata": {},
   "source": [
    "4. Explain in your own words the relationship between matrix multiplication and outer products. (0.5pts)"
   ]
  },
  {
   "cell_type": "markdown",
   "id": "e3673e4e",
   "metadata": {},
   "source": [
    "Matrix multiplication of A x B  requires that the number of columns in matrix A ( n x p) must be equal to the number of rows in matrix B (p x k). The rows of A will have same number of elements as the columns of B so that the two elements can multiplied in stepwise fashion to arrive at a product matrix.\n",
    "\n",
    "The outer product allows one to define matrix multiplication as the sum of individual outer products, the sum of p outer products where p is  the number of columns in matrix A ( n x p) or number of rows in matrix B (p x k).  The outer product of column i and row i from 0 to p.  "
   ]
  },
  {
   "cell_type": "markdown",
   "id": "9c023ddf",
   "metadata": {},
   "source": [
    "5. Implement a function that takes two matrices as input and returns their product using the outer product method. (0.5pts)"
   ]
  },
  {
   "cell_type": "code",
   "execution_count": 5,
   "id": "f918b262",
   "metadata": {},
   "outputs": [
    {
     "name": "stdout",
     "output_type": "stream",
     "text": [
      "The sum of all outer products using loop is:\n",
      " [[ 58.  64.]\n",
      " [139. 154.]]\n",
      "The dimension of the sum matrix using loop is: (2, 2)\n",
      "Does the sum of all outer products using loop equal the matrix multiplication product C? True\n"
     ]
    }
   ],
   "source": [
    "#  sum of outer products of the columns of A and the rows of B\n",
    "sum_matrix = np.zeros((A.shape[0], B.shape[1]))  # Initialize a zero matrix with the correct shape\n",
    "for i in range(A.shape[1]):  # Loop over the columns of A (or rows of B)\n",
    "    outer_product = np.outer(A[:, i], B[i, :])  # Compute the outer product of the i-th column of A and i-th row of B\n",
    "    sum_matrix += outer_product  # Add the outer product to the sum matrix\n",
    "\n",
    "print(\"The sum of all outer products using loop is:\\n\", sum_matrix)\n",
    "print(\"The dimension of the sum matrix using loop is:\", sum_matrix.shape)\n",
    "\n",
    "# The sum of all outer products should equal the dot product C\n",
    "print(\"Does the sum of all outer products using loop equal the matrix multiplication product C?\", np.array_equal(sum_matrix, C))"
   ]
  },
  {
   "cell_type": "code",
   "execution_count": 6,
   "id": "a458c5f9",
   "metadata": {},
   "outputs": [],
   "source": [
    "# Implement a function that takes two matrices as input and returns their product using the outer product method\n",
    "\n",
    "def matrix_multiply(A, B):\n",
    "    if A.shape[1] != B.shape[0]: # Check if the number of columns in A equals the number of rows in B\n",
    "        raise ValueError(\"Number of columns in A must be equal to number of rows in B\") # Return an error if dimensions do not match\n",
    "    \n",
    "    sum_matrix = np.zeros((A.shape[0], B.shape[1]))  # Initialize a matrix with the correct shape with zeroes \n",
    "    for i in range(A.shape[1]):  # Loop over the columns of A (or rows of B)\n",
    "        outer_product = np.outer(A[:, i], B[i, :])  # Compute the outer product of the i-th column of A and i-th row of B\n",
    "        sum_matrix += outer_product  # Add the outer product to the sum matrix\n",
    "    return sum_matrix\n"
   ]
  },
  {
   "cell_type": "code",
   "execution_count": 7,
   "id": "bb55d68a",
   "metadata": {
    "kernel": "R",
    "tags": [
     "report_cell"
    ]
   },
   "outputs": [
    {
     "name": "stdout",
     "output_type": "stream",
     "text": [
      "The result of matrix multiplication using the outer product method is:\n",
      " [[ 58.  64.]\n",
      " [139. 154.]]\n"
     ]
    }
   ],
   "source": [
    "# assign the result of the function to a matrix and print the result\n",
    "result = matrix_multiply(A, B)\n",
    "print(\"The result of matrix multiplication using the outer product method is:\\n\", result)\n"
   ]
  },
  {
   "cell_type": "markdown",
   "id": "149d8ed9",
   "metadata": {},
   "source": [
    "### Chick-Weight (7.5pts)\n",
    "You are a farmer named Bob and your chickens are getting too fat.  Analyze the ChickWeight dataset in R before your chickens get taken away by the ASPCA. Your task is to explore the relationship between diet and weight gain over time in chicks. Perform the following analyses:\n",
    "\n",
    "Load the ChickWeight dataset and display its structure.  If it's not already included, you can load the attached chick_weight.csv"
   ]
  },
  {
   "cell_type": "code",
   "execution_count": 8,
   "id": "738e7314",
   "metadata": {},
   "outputs": [],
   "source": [
    "# load modules\n",
    "import matplotlib.pyplot as plt\n",
    "from matplotlib.lines import Line2D\n",
    "from matplotlib.patches import Patch\n",
    "import seaborn as sns"
   ]
  },
  {
   "cell_type": "code",
   "execution_count": 9,
   "id": "f0cc26dd",
   "metadata": {},
   "outputs": [
    {
     "name": "stdout",
     "output_type": "stream",
     "text": [
      "   Unnamed: 0  weight  Time  Chick  Diet\n",
      "0           1      42     0      1     1\n",
      "1           2      51     2      1     1\n",
      "2           3      59     4      1     1\n",
      "3           4      64     6      1     1\n",
      "4           5      76     8      1     1\n",
      "<class 'pandas.core.frame.DataFrame'>\n",
      "RangeIndex: 578 entries, 0 to 577\n",
      "Data columns (total 5 columns):\n",
      " #   Column      Non-Null Count  Dtype\n",
      "---  ------      --------------  -----\n",
      " 0   Unnamed: 0  578 non-null    int64\n",
      " 1   weight      578 non-null    int64\n",
      " 2   Time        578 non-null    int64\n",
      " 3   Chick       578 non-null    int64\n",
      " 4   Diet        578 non-null    int64\n",
      "dtypes: int64(5)\n",
      "memory usage: 22.7 KB\n",
      "None\n",
      "       Unnamed: 0      weight        Time       Chick        Diet\n",
      "count  578.000000  578.000000  578.000000  578.000000  578.000000\n",
      "mean   289.500000  121.818339   10.717993   25.750865    2.235294\n",
      "std    166.998503   71.071960    6.758400   14.568795    1.162678\n",
      "min      1.000000   35.000000    0.000000    1.000000    1.000000\n",
      "25%    145.250000   63.000000    4.000000   13.000000    1.000000\n",
      "50%    289.500000  103.000000   10.000000   26.000000    2.000000\n",
      "75%    433.750000  163.750000   16.000000   38.000000    3.000000\n",
      "max    578.000000  373.000000   21.000000   50.000000    4.000000\n"
     ]
    }
   ],
   "source": [
    "# load chick_weight.csv data\n",
    "chick_data = pd.read_csv('chick_weight.csv')\n",
    "print(chick_data.head())\n",
    "\n",
    "#display structure of data\n",
    "print(chick_data.info())\n",
    "# display summary statistics of data\n",
    "print(chick_data.describe())    "
   ]
  },
  {
   "cell_type": "markdown",
   "id": "324dd7c3",
   "metadata": {},
   "source": [
    "1. Create a summary table showing the average weight of chicks for each diet at each time point. (0.5pts)"
   ]
  },
  {
   "cell_type": "code",
   "execution_count": 10,
   "id": "f61254d1",
   "metadata": {},
   "outputs": [
    {
     "name": "stdout",
     "output_type": "stream",
     "text": [
      "    Diet  Time  Mean_Weight\n",
      "0      1     0    41.400000\n",
      "1      1     2    47.250000\n",
      "2      1     4    56.473684\n",
      "3      1     6    66.789474\n",
      "4      1     8    79.684211\n",
      "5      1    10    93.052632\n",
      "6      1    12   108.526316\n",
      "7      1    14   123.388889\n",
      "8      1    16   144.647059\n",
      "9      1    18   158.941176\n",
      "10     1    20   170.411765\n",
      "11     1    21   177.750000\n",
      "12     2     0    40.700000\n",
      "13     2     2    49.400000\n",
      "14     2     4    59.800000\n",
      "15     2     6    75.400000\n",
      "16     2     8    91.700000\n",
      "17     2    10   108.500000\n",
      "18     2    12   131.300000\n",
      "19     2    14   141.900000\n",
      "20     2    16   164.700000\n",
      "21     2    18   187.700000\n",
      "22     2    20   205.600000\n",
      "23     2    21   214.700000\n",
      "24     3     0    40.800000\n",
      "25     3     2    50.400000\n",
      "26     3     4    62.200000\n",
      "27     3     6    77.900000\n",
      "28     3     8    98.400000\n",
      "29     3    10   117.100000\n",
      "30     3    12   144.400000\n",
      "31     3    14   164.500000\n",
      "32     3    16   197.400000\n",
      "33     3    18   233.100000\n",
      "34     3    20   258.900000\n",
      "35     3    21   270.300000\n",
      "36     4     0    41.000000\n",
      "37     4     2    51.800000\n",
      "38     4     4    64.500000\n",
      "39     4     6    83.900000\n",
      "40     4     8   105.600000\n",
      "41     4    10   126.000000\n",
      "42     4    12   151.400000\n",
      "43     4    14   161.800000\n",
      "44     4    16   182.000000\n",
      "45     4    18   202.900000\n",
      "46     4    20   233.888889\n",
      "47     4    21   238.555556\n"
     ]
    }
   ],
   "source": [
    "# 1. Create a summary table showing the average weight of chicks for each diet at each time point\n",
    "summary_table = chick_data.groupby(['Diet', 'Time']).agg(Mean_Weight=('weight', 'mean')).reset_index() # use groupby and agg functions to calculate mean weight for each diet and time point\n",
    "print(summary_table)    "
   ]
  },
  {
   "cell_type": "markdown",
   "id": "f9d0c241",
   "metadata": {},
   "source": [
    "2. Visualize the weight gain over time for each diet using a line plot with error bars representing the standard error of the mean. (0.5pts)"
   ]
  },
  {
   "cell_type": "markdown",
   "id": "6ec617aa",
   "metadata": {},
   "source": [
    "### I added error bars in Seaborn, but it does not render error bars , so we need to calculate them separately. "
   ]
  },
  {
   "cell_type": "code",
   "execution_count": 11,
   "id": "a11807ca",
   "metadata": {},
   "outputs": [
    {
     "data": {
      "image/png": "[encoded data removed]",
      "text/plain": [
       "<Figure size 640x480 with 1 Axes>"
      ]
     },
     "metadata": {},
     "output_type": "display_data"
    }
   ],
   "source": [
    "#*** Seaborn does not support error bars directly, so we need to calculate them separately. ***\n",
    "\n",
    "# Calculate standard error of the mean for each diet at each time point and use it in a new dataframe\n",
    "\n",
    "# use groupby and agg functions to  calculate mean weight and SEM for each diet and time point \n",
    "summary_sem = chick_data.groupby(['Diet', 'Time']).agg(Mean_Weight=('weight', 'mean'), SEM=('weight', 'sem')).reset_index() \n",
    "\n",
    "# Use Matplotlib's errorbar function on the Axes object returned by your Seaborn plot.\n",
    "ax = sns.lineplot(data=summary_sem, x='Time', y='Mean_Weight', hue='Diet', marker='o')\n",
    "ax.errorbar(x=summary_sem['Time'], y=summary_sem['Mean_Weight'], yerr=summary_sem['SEM'], fmt='none', c='black', capsize=5)\n",
    "# Customize the plot\n",
    "ax.set_title('Chick Weight Gain Over Time by Diet')\n",
    "ax.set_xlabel('Time (days)')\n",
    "ax.set_ylabel('Mean Weight (grams)')\n",
    "ax.legend(title='Diet')\n",
    "plt.show()"
   ]
  },
  {
   "cell_type": "markdown",
   "id": "547ca6e5",
   "metadata": {},
   "source": [
    "3. Use the ggcorrplot package to create a correlation heatmap of the numeric variables in the dataset.  Convert the diet column to dummy variables (columns) and include them in the correlation analysis. (1pts)"
   ]
  },
  {
   "cell_type": "code",
   "execution_count": 12,
   "id": "9f0a979c",
   "metadata": {},
   "outputs": [
    {
     "name": "stdout",
     "output_type": "stream",
     "text": [
      "   weight  Time  Diet_1  Diet_2  Diet_3  Diet_4\n",
      "0      42     0       1       0       0       0\n",
      "1      51     2       1       0       0       0\n",
      "2      59     4       1       0       0       0\n",
      "3      64     6       1       0       0       0\n",
      "4      76     8       1       0       0       0\n"
     ]
    }
   ],
   "source": [
    "# Convert the diet column in chick_data to dummy variables (columns) \n",
    "\n",
    "# *** Note, we can use drop_first=True to avoid multicollinearity, but I did not think it is necessary ***\n",
    "diet_dummies = pd.get_dummies(chick_data['Diet'], prefix='Diet', drop_first=False, dtype=int)  # convert 'Diet' column to dummy variables\n",
    "\n",
    "# Concatenate the dummy variables to the original dataframe\n",
    "chick_data_dummy = pd.concat([chick_data, diet_dummies], axis=1)  # concatenate along columns\n",
    "\n",
    "# remove the original Diet column\n",
    "chick_data_dummy.drop('Diet', axis=1, inplace=True)  # remove the original 'Diet' column\n",
    "\n",
    "# remove the Chick column becuase it is an identifier column\n",
    "chick_data_dummy.drop('Chick', axis=1, inplace=True)  #  \n",
    "\n",
    "# remove the first column that was created when reading the csv file\n",
    "chick_data_dummy.drop(chick_data_dummy.columns[0], axis=1, inplace=True)  # remove the first column because this is an index column\n",
    "\n",
    "print(chick_data_dummy.head())  # display the first few rows of the modified dataframe\n"
   ]
  },
  {
   "cell_type": "code",
   "execution_count": 13,
   "id": "4aae6fc8",
   "metadata": {},
   "outputs": [
    {
     "data": {
      "image/png": "[encoded data removed]",
      "text/plain": [
       "<Figure size 1000x800 with 2 Axes>"
      ]
     },
     "metadata": {},
     "output_type": "display_data"
    }
   ],
   "source": [
    "# Now create a correlation heatmap of the numeric variables in the dataset\n",
    "\n",
    "numeric_cols = chick_data_dummy.select_dtypes(include=[np.number])  # select only numeric columns from df\n",
    "corr = numeric_cols.corr()    # create a correlation matrix of numeric columns\n",
    "plt.figure(figsize=(10, 8))  # set figure size\n",
    "sns.heatmap(corr, annot=True, fmt=\".2f\", cmap='coolwarm', square=True, cbar_kws={\"shrink\": .8}) # create heatmap with annotations\n",
    "plt.title('Correlation Heatmap of Numeric Variables in Chick Data') # add title\n",
    "plt.show()"
   ]
  },
  {
   "cell_type": "markdown",
   "id": "a8623fb2",
   "metadata": {},
   "source": [
    "Calculate a slope coefficient for each diet and time combination using a custom function.  HINT:  use the lm() function inside calculate slope and add 0+ in the front of the independent variables to get slopes for all but no intercept4.  s, otherwise the lm function will drop one of the diet columns to avoid collinearity. (1pts)"
   ]
  },
  {
   "cell_type": "code",
   "execution_count": 14,
   "id": "0381cc16",
   "metadata": {},
   "outputs": [
    {
     "name": "stdout",
     "output_type": "stream",
     "text": [
      "Slope coefficient for each Diet:\n",
      "   Diet      Slope\n",
      "0     1   8.929575\n",
      "1     2  10.502625\n",
      "2     3  12.629732\n",
      "3     4  11.774316\n"
     ]
    },
    {
     "name": "stderr",
     "output_type": "stream",
     "text": [
      "C:\\Users\\vogel\\AppData\\Local\\Temp\\ipykernel_32736\\3815515958.py:14: FutureWarning: DataFrameGroupBy.apply operated on the grouping columns. This behavior is deprecated, and in a future version of pandas the grouping columns will be excluded from the operation. Either pass `include_groups=False` to exclude the groupings or explicitly select the grouping columns after groupby to silence this warning.\n",
      "  slopes= chick_data_diet.apply(calculate_slope) # call the function with the chick_data_diet dataframe\n"
     ]
    }
   ],
   "source": [
    "# Group by diet and calculate slope coefficients for time vs weight for each Diet\n",
    "# We use the chick_data dataframe, not the chick_data_dummy dataframe\n",
    "\n",
    "import statsmodels.formula.api as smf\n",
    "\n",
    "chick_data_diet = chick_data.groupby('Diet')  # group by Diet\n",
    "\n",
    "def calculate_slope(data):\n",
    "    model = smf.ols('weight ~ 0 + Time', data=data).fit()  # fit linear model without intercept\n",
    "    slopes = model.params  # extract slope coefficients\n",
    "    return slopes\n",
    "\n",
    "# Apply the function to each diet group\n",
    "slopes= chick_data_diet.apply(calculate_slope) # call the function with the chick_data_diet dataframe\n",
    "\n",
    "# Convert the slopes to a DataFrame for better visualization\n",
    "slopes_df = slopes.reset_index()  # reset index to convert Series to DataFrame\n",
    "slopes_df.columns = ['Diet', 'Slope']  # rename columns\n",
    "print(\"Slope coefficient for each Diet:\")\n",
    "print(slopes_df)  # print the DataFrame of slopes\n"
   ]
  },
  {
   "cell_type": "markdown",
   "id": "0bfac39f",
   "metadata": {},
   "source": [
    "5.  Write a function that calculates residual sum of squares (RSS), and then compare the minimal value to find the optimal slopes for each parameter and parameter combination. (1pts)"
   ]
  },
  {
   "cell_type": "code",
   "execution_count": 16,
   "id": "0242c243",
   "metadata": {},
   "outputs": [],
   "source": [
    "# We first create a function to calculate the residual sum of squares (RSS) for each model with arguments of actual and predicted values and Model name\n",
    "def calculate_rss(y_true, y_pred, model_name):\n",
    "    rss = np.sum((y_true - y_pred) ** 2)  # calculate RSS\n",
    "    print(f\"The Function calculates RSS for {model_name} = {rss:,.2f}\")  # print RSS\n",
    "    return rss"
   ]
  },
  {
   "cell_type": "code",
   "execution_count": 25,
   "id": "f8be323d",
   "metadata": {},
   "outputs": [
    {
     "name": "stdout",
     "output_type": "stream",
     "text": [
      "Using LineraRegression package, the Model1 RSS = 872212.18\n",
      "The Function calculates RSS for Model1 (Time only) = 872,212.18\n"
     ]
    }
   ],
   "source": [
    "# Now we first create 4 linear regression models to predict weight as a function of Time and Diet\n",
    "# Model1: weight as a function of Time only\n",
    "# Model2: weight as a function of Diet only\n",
    "# Model3: weight as a function of Time and Diet (no interaction)\n",
    "# Model4: weight as a function of Time, Diet, and Time*Diet interaction\n",
    "     \n",
    "\n",
    "# Model1: use LinearRegression to predict weight as a function of Time using the chick_data_dummy dataframe\n",
    "from sklearn.linear_model import LinearRegression\n",
    "from sklearn.metrics import mean_squared_error\n",
    "# Define features and target variable\n",
    "X = chick_data_dummy[['Time']]  # feature is Time\n",
    "y = chick_data_dummy['weight']   # target is Weight\n",
    "\n",
    "\n",
    "# Create a LinearRegression model\n",
    "model1 = LinearRegression()\n",
    "\n",
    "# Fit the model\n",
    "model1.fit(X, y)\n",
    "\n",
    "# Make predictions for y using Time only\n",
    "y_pred_time = model1.predict(X)   # predict weight using Time only - we will use for the RSS function \n",
    "\n",
    "# Evaluate the model RSS\n",
    "rss1 = mean_squared_error(y, y_pred_time) * len(X)  # calculate RSS\n",
    "print(f\"Using LineraRegression package, the Model1 RSS = {rss1:.2f}\")\n",
    "\n",
    "# Call functiion to calculate RSS for Model1\n",
    "rss1 = calculate_rss(y, y_pred_time, \"Model1 (Time only)\")\n",
    "\n",
    "\n"
   ]
  },
  {
   "cell_type": "code",
   "execution_count": 24,
   "id": "51a14397",
   "metadata": {},
   "outputs": [
    {
     "name": "stdout",
     "output_type": "stream",
     "text": [
      "Using LineraRegression package, the Model1 RSS = 2758693.27\n",
      "The Function calculates RSS for Model2 (Diet only) = 2,758,693.27\n"
     ]
    }
   ],
   "source": [
    "# Model2: use LinearRegression to predict Weight as a function of Diet using the chick_data_dummy dataframe\n",
    "model2 = LinearRegression()\n",
    "X = chick_data_dummy[['Diet_1', 'Diet_2', 'Diet_3', 'Diet_4']]  # features are the Diet dummy variables\n",
    "y = chick_data_dummy['weight']   # target is Weight\n",
    "\n",
    "# Fit the model\n",
    "model2.fit(X, y)\n",
    "# Make predictions for y using Diet only\n",
    "y_pred_diet = model2.predict(X)   # predict weight using Diet only - we will use for the RSS function\n",
    "\n",
    "# Evaluate the model RSS\n",
    "rss1 = mean_squared_error(y, y_pred_diet) * len(X)  # calculate RSS\n",
    "print(f\"Using LineraRegression package, the Model1 RSS = {rss2:.2f}\")\n",
    "\n",
    "# Call functiion to calculate RSS for Model1\n",
    "rss2 = calculate_rss(y, y_pred_diet, \"Model2 (Diet only)\")\n",
    "\n"
   ]
  },
  {
   "cell_type": "code",
   "execution_count": 26,
   "id": "a942468b",
   "metadata": {},
   "outputs": [
    {
     "name": "stdout",
     "output_type": "stream",
     "text": [
      "Using LineraRegression package, the Model3 RSS = 742336.12\n",
      "The Function calculates RSS for Model3 (Time + Diet) = 742,336.12\n"
     ]
    }
   ],
   "source": [
    "# Model3: use LinearRegression to predict Weight as a function of Time + Diet (addtive effects) using the chick_data_dummy dataframe\n",
    "# Define features and target variable\n",
    "X = chick_data_dummy.drop('weight', axis=1)  # features are all columns except weight\n",
    "y = chick_data_dummy['weight']   # target is weight\n",
    "# Create a LinearRegression model\n",
    "model3 = LinearRegression()\n",
    "# Fit the model\n",
    "model3.fit(X, y)\n",
    "\n",
    "# Make predictions for y using Time + Diet\n",
    "y_pred_diet_plus_time = model3.predict(X)\n",
    "\n",
    "\n",
    "# Evaluate the model RSS\n",
    "rss3 = mean_squared_error(y, y_pred_diet_plus_time) * len(X)  # calculate RSS\n",
    "print(f\"Using LineraRegression package, the Model3 RSS = {rss3:.2f}\")\n",
    "\n",
    "# Call functiion to calculate RSS for Model1\n",
    "rss3 = calculate_rss(y, y_pred_diet_plus_time, \"Model3 (Time + Diet)\")"
   ]
  },
  {
   "cell_type": "code",
   "execution_count": 28,
   "id": "35a27c2e",
   "metadata": {},
   "outputs": [
    {
     "name": "stdout",
     "output_type": "stream",
     "text": [
      "Using LineraRegression package, the Model4 RSS = 661532.03\n",
      "The Function calculates RSS for Model4 (Time * Diet) = 661,532.03\n"
     ]
    }
   ],
   "source": [
    "# Model4: use LinearRegression to predict Weight as a function of Time X Diet (associative effects) using the chick_data_dummy dataframe\n",
    "\n",
    "# Define features and target variable\n",
    "X = chick_data_dummy.drop('weight', axis=1)  # features are all columns except weight\n",
    "y = chick_data_dummy['weight']   # target is weight\n",
    "\n",
    "# Create interaction terms between Time and each Diet dummy variable    \n",
    "for diet in diet_dummies.columns: # loop over each diet dummy variable and create interaction term\n",
    "    X[f'Time_X_{diet}'] = X['Time'] * X[diet]  # create interaction term by multiplying Time with each diet dummy variable\n",
    "\n",
    "# Create a LinearRegression model\n",
    "model4 = LinearRegression()  \n",
    "# Fit the model\n",
    "model4.fit(X, y)\n",
    "\n",
    "# Make predictions for y using Time * Diet interaction\n",
    "y_pred_diet_times_time = model4.predict(X)\n",
    "\n",
    "# Evaluate the model RSS\n",
    "rss4 = mean_squared_error(y, y_pred_diet_times_time) * len(X)  # calculate RSS\n",
    "print(f\"Using LineraRegression package, the Model4 RSS = {rss4:.2f}\")\n",
    "\n",
    "# Call functiion to calculate RSS for Model1\n",
    "rss4 = calculate_rss(y, y_pred_diet_times_time, \"Model4 (Time * Diet)\")\n",
    "\n"
   ]
  },
  {
   "cell_type": "markdown",
   "id": "295eb2c5",
   "metadata": {},
   "source": [
    "### The RSS for the Weight ~ Time * Diet model is the lowest of the 4 models at 661,532."
   ]
  },
  {
   "cell_type": "markdown",
   "id": "790f2e85",
   "metadata": {},
   "source": [
    "You can loop through different models and calculate RSS for each  \n",
    "to find the optimal slopes for each parameter and parameter combination.    \n",
    "You can work through it manually as well"
   ]
  },
  {
   "cell_type": "markdown",
   "id": "63a09d90",
   "metadata": {},
   "source": [
    "6.  Use anova to compare the RSS to see if they're significant -- compare the F statistic.  Use the built in anova function.  (0.5pts)\n"
   ]
  },
  {
   "cell_type": "code",
   "execution_count": 29,
   "id": "a5044537",
   "metadata": {},
   "outputs": [
    {
     "name": "stdout",
     "output_type": "stream",
     "text": [
      "F-statistic = 0.00\n",
      "p-value = 1.00e+00\n"
     ]
    }
   ],
   "source": [
    "import numpy as np\n",
    "import pandas as pd\n",
    "import scipy.stats as stats\n",
    "import matplotlib.pyplot as plt\n",
    "\n",
    "#create 4 arrays representing the predicted weights from each model\n",
    "Pred_Model1 = np.array(y_pred_time)  # add predictions from Model1\n",
    "Pred_Model2 = np.array(y_pred_diet)  # add predictions from Model2\n",
    "Pred_Model3 = np.array(y_pred_diet_plus_time)  # add predictions from Model3\n",
    "Pred_Model4 = np.array(y_pred_diet_times_time)  # add predictions from Model4\n",
    "\n",
    "# Run ANOVA\n",
    "anova_results = stats.f_oneway(Pred_Model1, Pred_Model2, Pred_Model3, Pred_Model4)  # perform one-way ANOVA using scipy.stats.f_oneway on the 4 arrays with predicted weights\n",
    "\n",
    "# print f statistic and p-value with 2 decimal places\n",
    "print(f\"F-statistic = {anova_results.statistic:.2f}\")\n",
    "print(f\"p-value = {anova_results.pvalue:.2e}\")"
   ]
  },
  {
   "cell_type": "markdown",
   "id": "a145ece5",
   "metadata": {},
   "source": [
    "### We have a low F-statistic, so these RSS are not significant."
   ]
  },
  {
   "cell_type": "markdown",
   "id": "2d4c90d7",
   "metadata": {},
   "source": [
    "7. Fit a linear model to assess the effect of diet and time on weight.  Use backwards selection to find the best model just against the p-values of the coefficients.  Use the same approach with the 0 + leading the independent variables to ensure all lines are present. (1pts)"
   ]
  },
  {
   "cell_type": "code",
   "execution_count": 30,
   "id": "dea6db36",
   "metadata": {},
   "outputs": [
    {
     "name": "stdout",
     "output_type": "stream",
     "text": [
      "P-values of the coefficients:\n",
      " Diet_1     1.218886e-03\n",
      "Diet_2     7.418376e-11\n",
      "Diet_3     3.595277e-28\n",
      "Diet_4     4.116781e-22\n",
      "Time      1.803038e-165\n",
      "dtype: float64\n"
     ]
    }
   ],
   "source": [
    "# Fit a linear model to assess the effect of diet and time on weight and use backwards selection to find the best model just against the p-values of the coefficients.\n",
    "# Do not add an intercept because we have dummy variables for all categories of Diet\n",
    "\n",
    "import statsmodels.formula.api as smf\n",
    "\n",
    "model_backwards = smf.ols('weight ~ 0 + Diet_1 + Diet_2 + Diet_3 + Diet_4 + Time', data=chick_data_dummy).fit()  # fit linear model without intercept\n",
    "\n",
    "# get the p-values of the coefficients and check for highest p-value to remove (over p = .05 threshold)\n",
    "p_values = model_backwards.pvalues\n",
    "print(\"P-values of the coefficients:\\n\", p_values)\n",
    "\n",
    "\n"
   ]
  },
  {
   "cell_type": "markdown",
   "id": "c4eb09b4",
   "metadata": {},
   "source": [
    "## All values are less than .05, so we do not need to remove any variables "
   ]
  },
  {
   "cell_type": "code",
   "execution_count": 31,
   "id": "e9572466",
   "metadata": {},
   "outputs": [
    {
     "name": "stdout",
     "output_type": "stream",
     "text": [
      "Backward elimination complete. All remaining features are significant.\n",
      "\n",
      "Final Model Summary:\n",
      "                            OLS Regression Results                            \n",
      "==============================================================================\n",
      "Dep. Variable:                 weight   R-squared:                       0.745\n",
      "Model:                            OLS   Adj. R-squared:                  0.744\n",
      "Method:                 Least Squares   F-statistic:                     419.2\n",
      "Date:                Wed, 17 Sep 2025   Prob (F-statistic):          1.44e-168\n",
      "Time:                        21:28:37   Log-Likelihood:                -2888.8\n",
      "No. Observations:                 578   AIC:                             5788.\n",
      "Df Residuals:                     573   BIC:                             5809.\n",
      "Df Model:                           4                                         \n",
      "Covariance Type:            nonrobust                                         \n",
      "==============================================================================\n",
      "                 coef    std err          t      P>|t|      [0.025      0.975]\n",
      "------------------------------------------------------------------------------\n",
      "Diet_1        10.9244      3.361      3.251      0.001       4.324      17.525\n",
      "Diet_2        27.0905      4.082      6.637      0.000      19.074      35.107\n",
      "Diet_3        47.4238      4.082     11.619      0.000      39.407      55.440\n",
      "Diet_4        41.1578      4.083     10.081      0.000      33.139      49.177\n",
      "Time           8.7505      0.222     39.451      0.000       8.315       9.186\n",
      "==============================================================================\n",
      "Omnibus:                       59.179   Durbin-Watson:                   0.419\n",
      "Prob(Omnibus):                  0.000   Jarque-Bera (JB):              177.566\n",
      "Skew:                           0.474   Prob(JB):                     2.77e-39\n",
      "Kurtosis:                       5.544   Cond. No.                         48.4\n",
      "==============================================================================\n",
      "\n",
      "Notes:\n",
      "[1] Standard Errors assume that the covariance matrix of the errors is correctly specified.\n",
      "\n",
      "Final selected features: ['Diet_1', 'Diet_2', 'Diet_3', 'Diet_4', 'Time']\n"
     ]
    }
   ],
   "source": [
    "# **** As part of my research on backwards selection, I found a function to perform backwards elimination based on \n",
    "# **** p-values of the coefficients and adapdted it here\n",
    "\n",
    "import statsmodels.api as sm\n",
    "\n",
    "# Use a while loop to perform backward elimination based on p-values\n",
    "def backward_elimination(df, target, initial_features, significance_level=0.05):\n",
    "    features = list(initial_features)   \n",
    "    while True:\n",
    "        model = sm.OLS(df[target], df[features]).fit()\n",
    "        p_values = model.pvalues\n",
    "        max_p_value = p_values.max()\n",
    "\n",
    "        if max_p_value > significance_level:\n",
    "            removed_feature = p_values.idxmax()\n",
    "            features.remove(removed_feature)\n",
    "            print(f\"Removed '{removed_feature}' (p-value: {max_p_value:.4f})\")\n",
    "        else:\n",
    "            print(\"Backward elimination complete. All remaining features are significant.\")\n",
    "            break\n",
    "    return model, features\n",
    "\n",
    "# Define the target and initial features\n",
    "target_variable = 'weight'\n",
    "# Include all dummy variables for Diet and the Time variable\n",
    "initial_predictors = ['Diet_1', 'Diet_2', 'Diet_3', 'Diet_4', 'Time']\n",
    "\n",
    "# Perform backward selection\n",
    "final_model, final_features = backward_elimination(chick_data_dummy, target_variable, initial_predictors)\n",
    "\n",
    "# Print the final model summary\n",
    "print(\"\\nFinal Model Summary:\")\n",
    "print(final_model.summary())\n",
    "\n",
    "# Print the final features\n",
    "print(\"\\nFinal selected features:\", final_features)"
   ]
  },
  {
   "cell_type": "markdown",
   "id": "b6d921dd",
   "metadata": {},
   "source": [
    "8. Iteratively enhance with backwards selection.  When the F statistic becomes insignificant, stop.  Do not use the step function, implement your own F test based backwards selection. (1pts)"
   ]
  },
  {
   "cell_type": "code",
   "execution_count": 32,
   "id": "ad6bf257",
   "metadata": {},
   "outputs": [
    {
     "name": "stdout",
     "output_type": "stream",
     "text": [
      "P-values of the coefficients:\n",
      " Diet_1     1.218886e-03\n",
      "Diet_2     7.418376e-11\n",
      "Diet_3     3.595277e-28\n",
      "Diet_4     4.116781e-22\n",
      "Time      1.803038e-165\n",
      "dtype: float64\n",
      "Overall model F-statistic p-value: 1.4407e-168\n"
     ]
    }
   ],
   "source": [
    "# ************************ # ITERATION 1: use all variables************************\n",
    "#  Iteratively enhance with above model with backwards selection.  When the F statistic becomes insignificant, stop\n",
    "\n",
    "# Fit a linear model to assess the effect of diet and time on weight and use backwards selection to find the best model just against the p-values of the coefficients.\n",
    "# Do not add an intercept because we have dummy variables for all categories of Diet\n",
    "\n",
    "import statsmodels.formula.api as smf\n",
    "\n",
    "# ITERATION 1: use all variables\n",
    "\n",
    "model_backwards_f = smf.ols('weight ~ 0 + Diet_1 + Diet_2 + Diet_3 + Diet_4 + Time', data=chick_data_dummy).fit()  # fit linear model without intercept\n",
    "\n",
    "# get the p-values of the coefficients and check for highest p-value to remove (over p = .05 threshold)\n",
    "p_values = model_backwards_f.pvalues\n",
    "print(\"P-values of the coefficients:\\n\", p_values)\n",
    "\n",
    "# Check the overall model significance (F-statistic p-value)\n",
    "f_pvalue = model_backwards_f.f_pvalue\n",
    "print(f\"Overall model F-statistic p-value: {f_pvalue:.4e}\")\n"
   ]
  },
  {
   "cell_type": "markdown",
   "id": "8e61d433",
   "metadata": {},
   "source": [
    "### The f statistic is already smaller than the critical F value, so we should just stop here becuase the results are not signficannt. \n",
    "\n",
    "I will step through the next iteration for illustraive purposes. "
   ]
  },
  {
   "cell_type": "code",
   "execution_count": 35,
   "id": "de801345",
   "metadata": {},
   "outputs": [
    {
     "name": "stdout",
     "output_type": "stream",
     "text": [
      "P-values of the coefficients:\n",
      " Diet_2     1.314648e-08\n",
      "Diet_3     2.059311e-26\n",
      "Diet_4     5.348308e-20\n",
      "Time      1.573758e-239\n",
      "dtype: float64\n",
      "Overall model F-statistic p-value: 0.0000e+00\n"
     ]
    }
   ],
   "source": [
    "# ************************ # ITERATION 2: remove DIET1  because it has highest p************************\n",
    "#  Iteratively enhance with above model with backwards selection.  When the F statistic becomes insignificant, stop\n",
    "\n",
    "# Fit a linear model to assess the effect of diet and time on weight and use backwards selection to find the best model just against the p-values of the coefficients.\n",
    "# Do not add an intercept because we have dummy variables for all categories of Diet\n",
    "\n",
    "# ITERATION 2: remove DIET1\n",
    "\n",
    "model_backwards_f = smf.ols('weight ~ 0 + Diet_2 + Diet_3 + Diet_4 + Time', data=chick_data_dummy).fit()  # fit linear model without intercept\n",
    "\n",
    "# get the p-values of the coefficients and check for highest p-value to remove (over p = .05 threshold)\n",
    "p_values = model_backwards_f.pvalues\n",
    "print(\"P-values of the coefficients:\\n\", p_values)\n",
    "\n",
    "# Check the overall model significance (F-statistic p-value)\n",
    "f_pvalue = model_backwards_f.f_pvalue\n",
    "print(f\"Overall model F-statistic p-value: {f_pvalue:.4e}\")"
   ]
  },
  {
   "cell_type": "code",
   "execution_count": 36,
   "id": "e2e2b7e9",
   "metadata": {},
   "outputs": [
    {
     "name": "stdout",
     "output_type": "stream",
     "text": [
      "P-values of the coefficients:\n",
      " Diet_3     2.099005e-21\n",
      "Diet_4     1.264586e-15\n",
      "Time      6.929728e-271\n",
      "dtype: float64\n",
      "Overall model F-statistic p-value: 0.0000e+00\n"
     ]
    }
   ],
   "source": [
    "# ************************ # ITERATION 3: remove DIET2  because it has highest p************************\n",
    "#  Iteratively enhance with above model with backwards selection.  When the F statistic becomes insignificant, stop\n",
    "\n",
    "# Fit a linear model to assess the effect of diet and time on weight and use backwards selection to find the best model just against the p-values of the coefficients.\n",
    "# Do not add an intercept because we have dummy variables for all categories of Diet\n",
    "\n",
    "# ITERATION 3: remove DIET2\n",
    "\n",
    "model_backwards_f = smf.ols('weight ~ 0 + Diet_3 + Diet_4 + Time', data=chick_data_dummy).fit()  # fit linear model without intercept\n",
    "\n",
    "# get the p-values of the coefficients and check for highest p-value to remove (over p = .05 threshold)\n",
    "p_values = model_backwards_f.pvalues\n",
    "print(\"P-values of the coefficients:\\n\", p_values)\n",
    "\n",
    "# Check the overall model significance (F-statistic p-value)\n",
    "f_pvalue = model_backwards_f.f_pvalue\n",
    "print(f\"Overall model F-statistic p-value: {f_pvalue:.4e}\")"
   ]
  },
  {
   "cell_type": "code",
   "execution_count": 37,
   "id": "a84f6dd1",
   "metadata": {},
   "outputs": [
    {
     "name": "stdout",
     "output_type": "stream",
     "text": [
      "P-values of the coefficients:\n",
      " Diet_3     3.074332e-15\n",
      "Time      1.454674e-291\n",
      "dtype: float64\n",
      "Overall model F-statistic p-value: 3.9693e-320\n"
     ]
    }
   ],
   "source": [
    "# ************************ # ITERATION 4: remove DIET4  because it has highest p************************\n",
    "#  Iteratively enhance with above model with backwards selection.  When the F statistic becomes insignificant, stop\n",
    "\n",
    "# Fit a linear model to assess the effect of diet and time on weight and use backwards selection to find the best model just against the p-values of the coefficients.\n",
    "# Do not add an intercept because we have dummy variables for all categories of Diet\n",
    "\n",
    "# ITERATION 4: remove DIET4\n",
    "\n",
    "model_backwards_f = smf.ols('weight ~ 0 + Diet_3 + Time', data=chick_data_dummy).fit()  # fit linear model without intercept\n",
    "\n",
    "# get the p-values of the coefficients and check for highest p-value to remove (over p = .05 threshold)\n",
    "p_values = model_backwards_f.pvalues\n",
    "print(\"P-values of the coefficients:\\n\", p_values)\n",
    "\n",
    "# Check the overall model significance (F-statistic p-value)\n",
    "f_pvalue = model_backwards_f.f_pvalue\n",
    "print(f\"Overall model F-statistic p-value: {f_pvalue:.4e}\")\n"
   ]
  },
  {
   "cell_type": "code",
   "execution_count": 38,
   "id": "c4f7fa87",
   "metadata": {},
   "outputs": [
    {
     "name": "stdout",
     "output_type": "stream",
     "text": [
      "P-values of the coefficients:\n",
      " Time    1.350813e-308\n",
      "dtype: float64\n",
      "Overall model F-statistic p-value: 1.3508e-308\n"
     ]
    }
   ],
   "source": [
    "# ************************ # ITERATION 5: remove DIET3  because it has highest p************************\n",
    "#  Iteratively enhance with above model with backwards selection.  When the F statistic becomes insignificant, stop\n",
    "\n",
    "# Fit a linear model to assess the effect of diet and time on weight and use backwards selection to find the best model just against the p-values of the coefficients.\n",
    "# Do not add an intercept because we have dummy variables for all categories of Diet\n",
    "\n",
    "# ITERATION 5: remove DIET3\n",
    "\n",
    "model_backwards_f = smf.ols('weight ~ 0 + Time', data=chick_data_dummy).fit()  # fit linear model without intercept\n",
    "\n",
    "# get the p-values of the coefficients and check for highest p-value to remove (over p = .05 threshold)\n",
    "p_values = model_backwards_f.pvalues\n",
    "print(\"P-values of the coefficients:\\n\", p_values)\n",
    "\n",
    "# Check the overall model significance (F-statistic p-value)\n",
    "f_pvalue = model_backwards_f.f_pvalue\n",
    "print(f\"Overall model F-statistic p-value: {f_pvalue:.4e}\")\n",
    "\n",
    "# mode "
   ]
  },
  {
   "cell_type": "markdown",
   "id": "6ab112cf",
   "metadata": {},
   "source": [
    "9. Create a quadratic line with just weight vs time (quadratic vs linear) -- calculate RSS with results from quadratic to see if it's better. (0.5pts)"
   ]
  },
  {
   "cell_type": "code",
   "execution_count": 39,
   "id": "2a215df8",
   "metadata": {},
   "outputs": [
    {
     "name": "stdout",
     "output_type": "stream",
     "text": [
      "The Function calculates RSS for Quadratic Model (Time + Time^2) = 979,262.39\n",
      "The Function calculates RSS for Linear Model1 (Time) = 872,212.18\n"
     ]
    }
   ],
   "source": [
    "# Create a quadratic model  predict weight as a function of Time using the chick_data_dummy dataframe\n",
    "\n",
    "import statsmodels.formula.api as smf\n",
    "\n",
    "model_quadratic = smf.ols('weight ~ 0 + Time + I(Time**2)', data=chick_data_dummy).fit()  # fit quadratic model without intercept\n",
    "\n",
    "\n",
    "# calculate the RSS for the quadratic model\n",
    "y_pred_quadratic = model_quadratic.predict(chick_data)  # predict weight using the quadratic model\n",
    "rss_quadratic = calculate_rss(chick_data['weight'], y_pred_quadratic, \"Quadratic Model (Time + Time^2)\")\n",
    "\n",
    "# Call functiion to calculate RSS for Model1 (linear model with Time only)\n",
    "rss1 = calculate_rss(y, y_pred_time, \"Linear Model1 (Time)\")\n",
    "\n",
    "\n"
   ]
  },
  {
   "cell_type": "markdown",
   "id": "98910387",
   "metadata": {},
   "source": [
    "### RSS for linear model is lower."
   ]
  },
  {
   "cell_type": "markdown",
   "id": "6c5dc26e",
   "metadata": {},
   "source": [
    "10.  Generate a null model of chick-weight to hypothetically use for forwards selection. (0.5pts)"
   ]
  },
  {
   "cell_type": "code",
   "execution_count": 185,
   "id": "687bc6ae",
   "metadata": {},
   "outputs": [
    {
     "name": "stdout",
     "output_type": "stream",
     "text": [
      "                            OLS Regression Results                            \n",
      "==============================================================================\n",
      "Dep. Variable:                 weight   R-squared:                       0.000\n",
      "Model:                            OLS   Adj. R-squared:                  0.000\n",
      "Method:                 Least Squares   F-statistic:                       nan\n",
      "Date:                Tue, 16 Sep 2025   Prob (F-statistic):                nan\n",
      "Time:                        23:53:59   Log-Likelihood:                -3284.1\n",
      "No. Observations:                 578   AIC:                             6570.\n",
      "Df Residuals:                     577   BIC:                             6574.\n",
      "Df Model:                           0                                         \n",
      "Covariance Type:            nonrobust                                         \n",
      "==============================================================================\n",
      "                 coef    std err          t      P>|t|      [0.025      0.975]\n",
      "------------------------------------------------------------------------------\n",
      "Intercept    121.8183      2.956     41.208      0.000     116.012     127.625\n",
      "==============================================================================\n",
      "Omnibus:                       69.338   Durbin-Watson:                   0.621\n",
      "Prob(Omnibus):                  0.000   Jarque-Bera (JB):               91.947\n",
      "Skew:                           0.961   Prob(JB):                     1.08e-20\n",
      "Kurtosis:                       3.349   Cond. No.                         1.00\n",
      "==============================================================================\n",
      "\n",
      "Notes:\n",
      "[1] Standard Errors assume that the covariance matrix of the errors is correctly specified.\n",
      "The Function calculates RSS for Null Model (Intercept Only) = 2,914,555.93\n"
     ]
    }
   ],
   "source": [
    "# Create a null  model to predict weight as a function of Time using the chick_data_dummy dataframe (model with intercept only  and no predictors)\n",
    "\n",
    "import statsmodels.formula.api as smf\n",
    "\n",
    "model_null = smf.ols('weight ~ 1', data=chick_data_dummy).fit()  # fit null model with intercept only\n",
    "\n",
    "# Print the summary of the null model\n",
    "print(model_null.summary())\n",
    "\n",
    "# calculate the RSS for the null model\n",
    "y_pred_null = model_null.predict(chick_data_dummy)  # predict weight using the null model\n",
    "rss_null = calculate_rss(chick_data_dummy['weight'], y_pred_null, \"Null Model (Intercept Only)\")\n"
   ]
  },
  {
   "cell_type": "markdown",
   "id": "73684aaa",
   "metadata": {},
   "source": [
    "### Bonus:  Show that slope of linear regression is pearsons correlation r times the ratio of standard deviations for a simple linear model. (1pts)\n",
    "\n",
    "You can show it analytically by mashing together the equations for ß_1 and r, or you can show it numerically by simulating some data and fitting a linear model and calculating the correlation coefficient and standard deviations.\n",
    "\n",
    "The equation for sd(X) in terms of sum of squares is:\n",
    "$$\n",
    "s_x = \\sqrt{\\frac{1}{n-1} \\sum_{i=1}^n (X_i - \\bar{X})^2}\n",
    "$$\n",
    "where \\(X\\) is the predictor variable, \\(n\\) is the number of observations, and \\(\\bar{X}\\) is the mean of \\(X\\).\n",
    "\n",
    "The equation for sd(Y) in terms of sum of squares is:\n",
    "$$\n",
    "s_y = \\sqrt{\\frac{1}{n-1} \\sum_{i=1}^n (Y_i - \\bar{Y})^2}\n",
    "$$\n",
    "where \\(Y\\) is the response variable, \\(n\\) is the number of observations, and \\(\\bar{Y}\\) is the mean of \\(Y\\).\n",
    "\n",
    "The equation for cov(X,Y) is:\n",
    "$$\n",
    "cov(X, Y) = \\frac{1}{n-1} \\sum_{i=1}^n (X_i - \\bar{X})(Y_i - \\bar{Y})\n",
    "$$\n",
    "where \\(X\\) is the predictor variable, \\(Y\\) is the response variable, \\(n\\) is the number of observations, and \\(\\bar{X}\\) and \\(\\bar{Y}\\) are the means of \\(X\\) and \\(Y\\), respectively.\n",
    "\n",
    "\n",
    "The equation to calculate pearson's correlation is:\n",
    "$$\n",
    "r = \\frac{cov(X, Y)}{s_x s_y}\n",
    "$$\n",
    "where \\(cov(X, Y)\\) is the covariance between the predictor variable \\(X\\) and the response variable \\(Y\\), \\(s_x\\) is the standard deviation of \\(X\\), and \\(s_y\\) is the standard deviation of \\(Y\\).\n",
    "\n",
    "The numerical equation for ß_1 in a simple linear regression is:\n",
    "$$\n",
    "\\beta_1 = \\frac{\\sum_{i=1}^n(x_i - \\bar{x})(y_i - \\bar{y})}{\\sum_{i=1}^n(x_i - \\bar{x})^2}\n",
    "$$\n",
    "\n",
    "\n",
    "The symbolic representation of the same equation is:\n",
    "$$\n",
    "\\beta_1 = \\frac{cov(X, Y)}{s_x^2}\n",
    "$$\n",
    "where \\(cov(X, Y)\\) is the covariance between the predictor variable \\(X\\) and the response variable \\(Y\\), and \\(s_x^2\\) is the variance of \\(X\\).\n",
    "\n",
    "\n",
    "Can you prove the following by apply in algebra with the equations above:\n",
    "$$\n",
    "\\beta_1 = r \\frac{s_y}{s_x}\n",
    "$$\n",
    "where \\(r\\) is Pearson's correlation coefficient, \\(s_y\\) is the standard deviation of the response variable, and \\(s_x\\) is the standard deviation of the predictor variable.\n",
    "\n",
    "Write the solution by hand and upload a photo of your proof; or, if using a numerical comparison, submit the code here:"
   ]
  },
  {
   "cell_type": "markdown",
   "id": "6e710e9b",
   "metadata": {},
   "source": [
    "### See attached solution."
   ]
  }
 ],
 "metadata": {
  "Rmd_chunk_options": {
   "author": "Kamal",
   "output": "html_document",
   "title": "Homework1 - Machine Learning"
  },
  "kernelspec": {
   "display_name": "Python 3",
   "language": "python",
   "name": "python3"
  },
  "language_info": {
   "codemirror_mode": {
    "name": "ipython",
    "version": 3
   },
   "file_extension": ".py",
   "mimetype": "text/x-python",
   "name": "python",
   "nbconvert_exporter": "python",
   "pygments_lexer": "ipython3",
   "version": "3.13.7"
  }
 },
 "nbformat": 4,
 "nbformat_minor": 5
}
