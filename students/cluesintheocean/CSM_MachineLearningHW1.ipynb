{
 "cells": [
  {
   "cell_type": "code",
   "execution_count": 1,
   "id": "2160e54b-423f-4437-bb70-4a66a60d5268",
   "metadata": {
    "tags": []
   },
   "outputs": [
    {
     "data": {
      "text/html": [
       "<div>\n",
       "<style scoped>\n",
       "    .dataframe tbody tr th:only-of-type {\n",
       "        vertical-align: middle;\n",
       "    }\n",
       "\n",
       "    .dataframe tbody tr th {\n",
       "        vertical-align: top;\n",
       "    }\n",
       "\n",
       "    .dataframe thead th {\n",
       "        text-align: right;\n",
       "    }\n",
       "</style>\n",
       "<table border=\"1\" class=\"dataframe\">\n",
       "  <thead>\n",
       "    <tr style=\"text-align: right;\">\n",
       "      <th></th>\n",
       "      <th>Unnamed: 0</th>\n",
       "      <th>weight</th>\n",
       "      <th>Time</th>\n",
       "      <th>Chick</th>\n",
       "      <th>Diet</th>\n",
       "    </tr>\n",
       "  </thead>\n",
       "  <tbody>\n",
       "    <tr>\n",
       "      <th>0</th>\n",
       "      <td>1</td>\n",
       "      <td>42</td>\n",
       "      <td>0</td>\n",
       "      <td>1</td>\n",
       "      <td>1</td>\n",
       "    </tr>\n",
       "    <tr>\n",
       "      <th>1</th>\n",
       "      <td>2</td>\n",
       "      <td>51</td>\n",
       "      <td>2</td>\n",
       "      <td>1</td>\n",
       "      <td>1</td>\n",
       "    </tr>\n",
       "    <tr>\n",
       "      <th>2</th>\n",
       "      <td>3</td>\n",
       "      <td>59</td>\n",
       "      <td>4</td>\n",
       "      <td>1</td>\n",
       "      <td>1</td>\n",
       "    </tr>\n",
       "    <tr>\n",
       "      <th>3</th>\n",
       "      <td>4</td>\n",
       "      <td>64</td>\n",
       "      <td>6</td>\n",
       "      <td>1</td>\n",
       "      <td>1</td>\n",
       "    </tr>\n",
       "    <tr>\n",
       "      <th>4</th>\n",
       "      <td>5</td>\n",
       "      <td>76</td>\n",
       "      <td>8</td>\n",
       "      <td>1</td>\n",
       "      <td>1</td>\n",
       "    </tr>\n",
       "  </tbody>\n",
       "</table>\n",
       "</div>"
      ],
      "text/plain": [
       "   Unnamed: 0  weight  Time  Chick  Diet\n",
       "0           1      42     0      1     1\n",
       "1           2      51     2      1     1\n",
       "2           3      59     4      1     1\n",
       "3           4      64     6      1     1\n",
       "4           5      76     8      1     1"
      ]
     },
     "execution_count": 1,
     "metadata": {},
     "output_type": "execute_result"
    }
   ],
   "source": [
    "#Carla Martínez\n",
    "#Machine Learning HW 1\n",
    "\n",
    "#First part of homework no.5: Outer product matrix multiplication function\n",
    "\n",
    "def outer_prod(a, b):\n",
    "    c = []\n",
    "    for i in range(len(a)):\n",
    "        row = []\n",
    "        for j in range(len(b)):\n",
    "            row.append(a[i] * b[j]) #Ensure in nested loops that all elements of b are multiplied to all elements a\n",
    "        c.append(row)\n",
    "    return c\n"
   ]
  },
  {
   "cell_type": "code",
   "execution_count": null,
   "id": "5de70e9d-a05d-4f9c-a4ec-3a86e414a835",
   "metadata": {},
   "outputs": [],
   "source": [
    "import pandas as pd\n",
    "chickweight = pd.read_csv('Downloads/chick_weight.csv')\n",
    "chickweight.head()"
   ]
  },
  {
   "cell_type": "code",
   "execution_count": 2,
   "id": "22ef0a37-b031-4294-8a31-ebda836c367d",
   "metadata": {
    "tags": []
   },
   "outputs": [
    {
     "data": {
      "text/html": [
       "<div>\n",
       "<style scoped>\n",
       "    .dataframe tbody tr th:only-of-type {\n",
       "        vertical-align: middle;\n",
       "    }\n",
       "\n",
       "    .dataframe tbody tr th {\n",
       "        vertical-align: top;\n",
       "    }\n",
       "\n",
       "    .dataframe thead th {\n",
       "        text-align: right;\n",
       "    }\n",
       "</style>\n",
       "<table border=\"1\" class=\"dataframe\">\n",
       "  <thead>\n",
       "    <tr style=\"text-align: right;\">\n",
       "      <th></th>\n",
       "      <th>weight</th>\n",
       "      <th>Time</th>\n",
       "      <th>Chick</th>\n",
       "      <th>Diet</th>\n",
       "    </tr>\n",
       "  </thead>\n",
       "  <tbody>\n",
       "    <tr>\n",
       "      <th>0</th>\n",
       "      <td>42</td>\n",
       "      <td>0</td>\n",
       "      <td>1</td>\n",
       "      <td>1</td>\n",
       "    </tr>\n",
       "    <tr>\n",
       "      <th>1</th>\n",
       "      <td>51</td>\n",
       "      <td>2</td>\n",
       "      <td>1</td>\n",
       "      <td>1</td>\n",
       "    </tr>\n",
       "    <tr>\n",
       "      <th>2</th>\n",
       "      <td>59</td>\n",
       "      <td>4</td>\n",
       "      <td>1</td>\n",
       "      <td>1</td>\n",
       "    </tr>\n",
       "    <tr>\n",
       "      <th>3</th>\n",
       "      <td>64</td>\n",
       "      <td>6</td>\n",
       "      <td>1</td>\n",
       "      <td>1</td>\n",
       "    </tr>\n",
       "    <tr>\n",
       "      <th>4</th>\n",
       "      <td>76</td>\n",
       "      <td>8</td>\n",
       "      <td>1</td>\n",
       "      <td>1</td>\n",
       "    </tr>\n",
       "  </tbody>\n",
       "</table>\n",
       "</div>"
      ],
      "text/plain": [
       "   weight  Time  Chick  Diet\n",
       "0      42     0      1     1\n",
       "1      51     2      1     1\n",
       "2      59     4      1     1\n",
       "3      64     6      1     1\n",
       "4      76     8      1     1"
      ]
     },
     "execution_count": 2,
     "metadata": {},
     "output_type": "execute_result"
    }
   ],
   "source": [
    "chickweight = chickweight.drop('Unnamed: 0', axis = 1) #I don't really see a point to this column\n",
    "chickweight.head()"
   ]
  },
  {
   "cell_type": "code",
   "execution_count": 3,
   "id": "dd5f2fae-a2e6-456c-856f-79f35577a01e",
   "metadata": {},
   "outputs": [
    {
     "name": "stdout",
     "output_type": "stream",
     "text": [
      "             1      2      3           4\n",
      "0    41.400000   40.7   40.8   41.000000\n",
      "2    47.250000   49.4   50.4   51.800000\n",
      "4    56.473684   59.8   62.2   64.500000\n",
      "6    66.789474   75.4   77.9   83.900000\n",
      "8    79.684211   91.7   98.4  105.600000\n",
      "10   93.052632  108.5  117.1  126.000000\n",
      "12  108.526316  131.3  144.4  151.400000\n",
      "14  123.388889  141.9  164.5  161.800000\n",
      "16  144.647059  164.7  197.4  182.000000\n",
      "18  158.941176  187.7  233.1  202.900000\n",
      "20  170.411765  205.6  258.9  233.888889\n",
      "21  177.750000  214.7  270.3  238.555556\n"
     ]
    }
   ],
   "source": [
    "#1. Get the average weight of chicks at each diet at each time point\n",
    "\n",
    "avg_weights = {} #Create a dictionary with diet:time key\n",
    "\n",
    "for diet in chickweight['Diet'].unique(): #Loop 1: Different diets\n",
    "    avg_weights[diet] = {} \n",
    "    diet_entries = chickweight[chickweight['Diet'] == diet] #Makes entries based on whether or not we are iterating over the same/correct diet \n",
    "    \n",
    "    for time in diet_entries['Time'].unique(): #Loop 2: Different time points\n",
    "        time_entries = diet_entries[diet_entries['Time'] == time] #Making entries based on iterating the correct/same time point\n",
    "        avg = time_entries['weight'].mean()\n",
    "        avg_weights[diet][time] = avg #Store the mean for each time point in each diet\n",
    "\n",
    "avgs_summary = pd.DataFrame(avg_weights)\n",
    "\n",
    "print(avgs_summary)\n",
    "avgs_summary = avgs_summary.reset_index()"
   ]
  },
  {
   "cell_type": "code",
   "execution_count": 4,
   "id": "c9db7e20-7f29-4341-82ef-92ccc53ef1cf",
   "metadata": {},
   "outputs": [
    {
     "data": {
      "image/png": "[encoded data removed]",
      "text/plain": [
       "<Figure size 640x480 with 1 Axes>"
      ]
     },
     "metadata": {},
     "output_type": "display_data"
    }
   ],
   "source": [
    "#2. Visualize mean weight over time as line graph\n",
    "\n",
    "import seaborn as sb\n",
    "import matplotlib.pyplot as plt\n",
    "\n",
    "plt.xlabel('Time')\n",
    "plt.ylabel('Average Weight')\n",
    "for i in range(1, 5):\n",
    "    sb.lineplot(data = avgs_summary, x = avgs_summary['index'], y = avgs_summary[i])"
   ]
  },
  {
   "cell_type": "code",
   "execution_count": 5,
   "id": "46a896a6-1792-4e57-a12a-9d0c3714c0ef",
   "metadata": {},
   "outputs": [
    {
     "data": {
      "image/png": "[encoded data removed]",
      "text/plain": [
       "<Figure size 640x480 with 2 Axes>"
      ]
     },
     "metadata": {},
     "output_type": "display_data"
    }
   ],
   "source": [
    "#3. Create a correlation heatmap of the numeric variables; include diet as dummy variables.\n",
    "\n",
    "dummies = pd.get_dummies(chickweight, columns = ['Diet'], drop_first = False) #Drop to consider all the diets instead of using one as a \"reference class\"\n",
    "corr_matrix = dummies.corr()\n",
    "\n",
    "sb.heatmap(corr_matrix, annot = True)\n",
    "plt.title = (\"Correlation Heatmap\")\n"
   ]
  },
  {
   "cell_type": "code",
   "execution_count": 26,
   "id": "7ffea197-3351-422a-a7c9-300b4f2faf2c",
   "metadata": {},
   "outputs": [
    {
     "data": {
      "text/plain": [
       "{1: 6.841797198382129,\n",
       " 2: 8.609136288004839,\n",
       " 3: 11.422870972621386,\n",
       " 4: 9.714365562015416}"
      ]
     },
     "execution_count": 26,
     "metadata": {},
     "output_type": "execute_result"
    }
   ],
   "source": [
    "#4. Write a function to calculate the slope coefficient for each diet\n",
    "from sklearn.linear_model import LinearRegression\n",
    "import numpy as np\n",
    "\n",
    "def dietslope_calc(df):\n",
    "    slopes = {}\n",
    "    \n",
    "    for diet in df['Diet']: #Loop through all diet types similar to before\n",
    "        diet_entries = df[df['Diet'] == diet]\n",
    "        \n",
    "        X = diet_entries['Time'].values.reshape(-1, 1)\n",
    "        y = diet_entries['weight'].values.reshape(-1, 1)\n",
    "        \n",
    "        model = LinearRegression()\n",
    "        model.fit(X, y)\n",
    "        \n",
    "        slopes[diet] = model.coef_[0][0] #Store\n",
    "        \n",
    "    return slopes\n",
    "\n",
    "dietslope_calc(chickweight) "
   ]
  },
  {
   "cell_type": "code",
   "execution_count": 7,
   "id": "5bc78d50-9825-4684-9781-b3b532476c22",
   "metadata": {},
   "outputs": [
    {
     "name": "stdout",
     "output_type": "stream",
     "text": [
      "{1: 235211.53211635142, 2: 201864.2068068371, 3: 172400.71825744968, 4: 52055.57537250331}\n"
     ]
    }
   ],
   "source": [
    "#5.\tWrite a function that calculates residual sum of squares (RSS), and then compare the minimal value to find the optimal slopes for each parameter and parameter combination\n",
    "\n",
    "def get_rss(true, predicted):\n",
    "    return np.sum((true - predicted) ** 2)\n",
    "\n",
    "from sklearn.linear_model import LinearRegression\n",
    "\n",
    "rss_perdiet = {}\n",
    "for diet in chickweight['Diet'].unique(): #Loop through all diet types, again similar to before\n",
    "        diet_entries = chickweight[chickweight['Diet'] == diet]\n",
    "        \n",
    "        X = diet_entries['Time'].values.reshape(-1, 1) \n",
    "        y = diet_entries['weight'].values.reshape(-1, 1)\n",
    "        \n",
    "        model = LinearRegression()\n",
    "        model.fit(X, y)\n",
    "        pred = model.predict(X)\n",
    "        \n",
    "        rss = get_rss(y, pred)\n",
    "        rss_perdiet[diet] = rss\n",
    "\n",
    "print(rss_perdiet)"
   ]
  },
  {
   "cell_type": "code",
   "execution_count": 8,
   "id": "c652f37e-315d-47c0-bd41-d4117e8b09a0",
   "metadata": {},
   "outputs": [
    {
     "name": "stdout",
     "output_type": "stream",
     "text": [
      "F-statistic: 10.810089746832153\n",
      "P-value: 6.433247186683061e-07\n"
     ]
    }
   ],
   "source": [
    "#Diet 4 has the minimal RSS, so it has the optimal slopes\n",
    "\n",
    "#6. Use ANOVA function to determine if the RSS are significant (compare the F statistic)\n",
    "from scipy.stats import f_oneway\n",
    "\n",
    "diet_weights = []\n",
    "for diet in chickweight['Diet'].unique(): \n",
    "    weights = chickweight[chickweight['Diet'] == diet]['weight'].values #Get all weights from where the diet is the one we are looping through\n",
    "    diet_weights.append(weights)\n",
    "    \n",
    "f_stat, p_val = f_oneway(*diet_weights) #I looked up \"Python equivalent of ANOVA function\"\n",
    "\n",
    "print(\"F-statistic:\", f_stat)\n",
    "print(\"P-value:\", p_val)\n",
    "\n",
    "#High F-statistic and low P-value indicates significant difference between the diets"
   ]
  },
  {
   "cell_type": "code",
   "execution_count": 9,
   "id": "03ba94e4-8dfb-42ea-9b7c-40b83dacb069",
   "metadata": {
    "tags": []
   },
   "outputs": [
    {
     "name": "stdout",
     "output_type": "stream",
     "text": [
      "Time      1.803038e-165\n",
      "Diet_1     1.218886e-03\n",
      "Diet_2     7.418376e-11\n",
      "Diet_3     3.595277e-28\n",
      "Diet_4     4.116781e-22\n",
      "dtype: float64\n"
     ]
    }
   ],
   "source": [
    "#7. Use backwards selection to find the best model\n",
    "\n",
    "import statsmodels.formula.api as smf\n",
    "model1 = smf.ols('weight ~ 0 + Time + Diet_1 + Diet_2 + Diet_3 + Diet_4', data = dummies.astype(int)).fit() #It kept summarizing outcomes of Booleans so I had to convert the dummies to int\n",
    "print(model1.pvalues)"
   ]
  },
  {
   "cell_type": "code",
   "execution_count": 10,
   "id": "c6a50b86-f2c1-4aa1-9b4d-3e091a1fb6e7",
   "metadata": {
    "tags": []
   },
   "outputs": [
    {
     "name": "stdout",
     "output_type": "stream",
     "text": [
      "Time      1.573758e-239\n",
      "Diet_2     1.314648e-08\n",
      "Diet_3     2.059311e-26\n",
      "Diet_4     5.348308e-20\n",
      "dtype: float64\n"
     ]
    }
   ],
   "source": [
    "#Least significant is Diet 1. They are already all below 0.05 so I will just keep trying until the p values are as minimized as possible.\n",
    "model2 = smf.ols('weight ~ 0 + Time + Diet_2 + Diet_3 + Diet_4', data = dummies.astype(int)).fit()\n",
    "print(model2.pvalues)"
   ]
  },
  {
   "cell_type": "code",
   "execution_count": 11,
   "id": "55096218-8911-4cf6-9aa6-7d657a9fa29f",
   "metadata": {
    "tags": []
   },
   "outputs": [
    {
     "name": "stdout",
     "output_type": "stream",
     "text": [
      "Time      6.929728e-271\n",
      "Diet_3     2.099005e-21\n",
      "Diet_4     1.264586e-15\n",
      "dtype: float64\n"
     ]
    }
   ],
   "source": [
    "#Least significant: Diet 2\n",
    "model3 = smf.ols('weight ~ 0 + Time + Diet_3 + Diet_4', data = dummies.astype(int)).fit()\n",
    "print(model3.pvalues)"
   ]
  },
  {
   "cell_type": "code",
   "execution_count": 12,
   "id": "702d4cd6-b130-49a5-8e0c-b189d93a3f75",
   "metadata": {
    "tags": []
   },
   "outputs": [
    {
     "name": "stdout",
     "output_type": "stream",
     "text": [
      "Model 1 F stat: 419.1773497434213 P value: 1.4406690478461274e-168\n"
     ]
    }
   ],
   "source": [
    "#Least significant: Diet 4.\n",
    "#This is confusing because according to the RSS Diet 4 should be the best predictor, but according to this and the-\n",
    "#- correlation heatmap Diet 3 is the best.\n",
    "\n",
    "#8. Now to backwards select until the f statistic is insignificant\n",
    "print(\"Model 1 F stat:\", model1.fvalue, \"P value:\", model1.f_pvalue)"
   ]
  },
  {
   "cell_type": "code",
   "execution_count": 13,
   "id": "48af36b0-a02c-40fc-b196-03f96dad21f6",
   "metadata": {
    "tags": []
   },
   "outputs": [
    {
     "name": "stdout",
     "output_type": "stream",
     "text": [
      "Model 2 F stat: 2037.7598646542733 P value: 0.0\n"
     ]
    }
   ],
   "source": [
    "#Still significant, continue\n",
    "print(\"Model 2 F stat:\", model2.fvalue, \"P value:\", model2.f_pvalue)"
   ]
  },
  {
   "cell_type": "code",
   "execution_count": 14,
   "id": "2b2a413d-dec8-43be-9440-fd61c26f0061",
   "metadata": {
    "tags": []
   },
   "outputs": [
    {
     "name": "stdout",
     "output_type": "stream",
     "text": [
      "Model 3 F stat: 2562.1507152035388 P value: 0.0\n"
     ]
    }
   ],
   "source": [
    "#Still significant, continue\n",
    "print(\"Model 3 F stat:\", model3.fvalue, \"P value:\", model3.f_pvalue)"
   ]
  },
  {
   "cell_type": "code",
   "execution_count": 15,
   "id": "876ba67f-b167-445f-b38c-7f4d5ed4a5ff",
   "metadata": {
    "tags": []
   },
   "outputs": [
    {
     "name": "stdout",
     "output_type": "stream",
     "text": [
      "Model 4 F stat: 3413.900340927995 P value: 3.9693e-320\n"
     ]
    }
   ],
   "source": [
    "#Still significant, make a new model with Diet 4 removed and continue since I only got up to 3 models for the last question\n",
    "model4 = smf.ols('weight ~ 0 + Time + Diet_3', data = dummies.astype(int)).fit()\n",
    "print(\"Model 4 F stat:\", model4.fvalue, \"P value:\", model4.f_pvalue)"
   ]
  },
  {
   "cell_type": "code",
   "execution_count": 16,
   "id": "0f0828c7-82f7-493d-ac5b-f067fdfcaaa3",
   "metadata": {
    "tags": []
   },
   "outputs": [
    {
     "name": "stdout",
     "output_type": "stream",
     "text": [
      "Model 5 F stat: 6079.6570163540255 P value: 1.350813481981019e-308\n"
     ]
    }
   ],
   "source": [
    "#Still significant...\n",
    "model5 = smf.ols('weight ~ 0 + Time', data = dummies.astype(int)).fit()\n",
    "print(\"Model 5 F stat:\", model5.fvalue, \"P value:\", model5.f_pvalue)"
   ]
  },
  {
   "cell_type": "code",
   "execution_count": 17,
   "id": "cf70c9c8-7004-4e7c-9d77-2c275775d9ac",
   "metadata": {
    "tags": []
   },
   "outputs": [
    {
     "name": "stdout",
     "output_type": "stream",
     "text": [
      "Linear RSS: 996120.1730402254 Quadratic RSS: 993712.8711845833\n"
     ]
    }
   ],
   "source": [
    "#At this point, I am just assuming that the time predictor is so strong that even reducing it down to just that one-\n",
    "#-keeps the model significant.\n",
    "\n",
    "#9. Create a quadratic model to see if it's better than the linear one\n",
    "dummies['Time^2'] = dummies['Time'] ** 2\n",
    "model_q = smf.ols('weight ~ 0 + Time + Time^2', data = dummies.astype(int)).fit()\n",
    "\n",
    "#Model 5 is already just linear weight and time, so I am just going to compare it to that.\n",
    "rss_lin = sum(model5.resid ** 2)\n",
    "rss_q = sum(model_q.resid ** 2)\n",
    "\n",
    "print(\"Linear RSS:\", rss_lin, \"Quadratic RSS:\", rss_q)"
   ]
  },
  {
   "cell_type": "code",
   "execution_count": 18,
   "id": "8a471c98-dc82-40d6-a3e3-9a952f1b23c7",
   "metadata": {
    "tags": []
   },
   "outputs": [
    {
     "name": "stdout",
     "output_type": "stream",
     "text": [
      "                            OLS Regression Results                            \n",
      "==============================================================================\n",
      "Dep. Variable:                 weight   R-squared:                      -0.000\n",
      "Model:                            OLS   Adj. R-squared:                 -0.000\n",
      "Method:                 Least Squares   F-statistic:                       nan\n",
      "Date:                Fri, 19 Sep 2025   Prob (F-statistic):                nan\n",
      "Time:                        23:57:55   Log-Likelihood:                -3284.1\n",
      "No. Observations:                 578   AIC:                             6570.\n",
      "Df Residuals:                     577   BIC:                             6574.\n",
      "Df Model:                           0                                         \n",
      "Covariance Type:            nonrobust                                         \n",
      "==============================================================================\n",
      "                 coef    std err          t      P>|t|      [0.025      0.975]\n",
      "------------------------------------------------------------------------------\n",
      "Intercept    121.8183      2.956     41.208      0.000     116.012     127.625\n",
      "==============================================================================\n",
      "Omnibus:                       69.338   Durbin-Watson:                   0.621\n",
      "Prob(Omnibus):                  0.000   Jarque-Bera (JB):               91.947\n",
      "Skew:                           0.961   Prob(JB):                     1.08e-20\n",
      "Kurtosis:                       3.349   Cond. No.                         1.00\n",
      "==============================================================================\n",
      "\n",
      "Notes:\n",
      "[1] Standard Errors assume that the covariance matrix of the errors is correctly specified.\n"
     ]
    }
   ],
   "source": [
    "#It seems like the linear is slightly better.\n",
    "\n",
    "#10. Create a null model\n",
    "null = smf.ols('weight ~ 1', data = chickweight).fit()\n",
    "summary_null = null.summary()\n",
    "print(summary_null)"
   ]
  }
 ],
 "metadata": {
  "kernelspec": {
   "display_name": "Python 3 (ipykernel)",
   "language": "python",
   "name": "python3"
  },
  "language_info": {
   "codemirror_mode": {
    "name": "ipython",
    "version": 3
   },
   "file_extension": ".py",
   "mimetype": "text/x-python",
   "name": "python",
   "nbconvert_exporter": "python",
   "pygments_lexer": "ipython3",
   "version": "3.9.13"
  }
 },
 "nbformat": 4,
 "nbformat_minor": 5
}
